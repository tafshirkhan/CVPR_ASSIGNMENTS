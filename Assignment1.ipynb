{
  "nbformat": 4,
  "nbformat_minor": 0,
  "metadata": {
    "colab": {
      "name": "Assignment1.ipynb",
      "provenance": [],
      "collapsed_sections": []
    },
    "kernelspec": {
      "name": "python3",
      "display_name": "Python 3"
    },
    "language_info": {
      "name": "python"
    }
  },
  "cells": [
    {
      "cell_type": "code",
      "metadata": {
        "id": "lNzXLM9rAt6o"
      },
      "source": [
        "from google.colab import drive"
      ],
      "execution_count": 1,
      "outputs": []
    },
    {
      "cell_type": "code",
      "metadata": {
        "colab": {
          "base_uri": "https://localhost:8080/"
        },
        "id": "LbWQ5E_GA0Qx",
        "outputId": "59cb9113-04bf-4a5d-b2d6-689126b4221a"
      },
      "source": [
        "drive.mount('/content/drive')"
      ],
      "execution_count": 2,
      "outputs": [
        {
          "output_type": "stream",
          "name": "stdout",
          "text": [
            "Mounted at /content/drive\n"
          ]
        }
      ]
    },
    {
      "cell_type": "code",
      "metadata": {
        "colab": {
          "base_uri": "https://localhost:8080/",
          "height": 203
        },
        "id": "6VjYmORuA3ph",
        "outputId": "03b5bcbf-c839-4369-9f0c-9ec2756de904"
      },
      "source": [
        "import pandas as pd\n",
        "\n",
        "data = pd.read_csv('/content/drive/MyDrive/Data/Data5.csv')\n",
        "\n",
        "data.head()"
      ],
      "execution_count": 9,
      "outputs": [
        {
          "output_type": "execute_result",
          "data": {
            "text/html": [
              "<div>\n",
              "<style scoped>\n",
              "    .dataframe tbody tr th:only-of-type {\n",
              "        vertical-align: middle;\n",
              "    }\n",
              "\n",
              "    .dataframe tbody tr th {\n",
              "        vertical-align: top;\n",
              "    }\n",
              "\n",
              "    .dataframe thead th {\n",
              "        text-align: right;\n",
              "    }\n",
              "</style>\n",
              "<table border=\"1\" class=\"dataframe\">\n",
              "  <thead>\n",
              "    <tr style=\"text-align: right;\">\n",
              "      <th></th>\n",
              "      <th>X1</th>\n",
              "      <th>X2</th>\n",
              "      <th>Y</th>\n",
              "      <th></th>\n",
              "    </tr>\n",
              "  </thead>\n",
              "  <tbody>\n",
              "    <tr>\n",
              "      <th>0</th>\n",
              "      <td>1</td>\n",
              "      <td>71</td>\n",
              "      <td>1</td>\n",
              "      <td>NaN</td>\n",
              "    </tr>\n",
              "    <tr>\n",
              "      <th>1</th>\n",
              "      <td>75</td>\n",
              "      <td>48</td>\n",
              "      <td>0</td>\n",
              "      <td>NaN</td>\n",
              "    </tr>\n",
              "    <tr>\n",
              "      <th>2</th>\n",
              "      <td>12</td>\n",
              "      <td>62</td>\n",
              "      <td>1</td>\n",
              "      <td>NaN</td>\n",
              "    </tr>\n",
              "    <tr>\n",
              "      <th>3</th>\n",
              "      <td>32</td>\n",
              "      <td>62</td>\n",
              "      <td>1</td>\n",
              "      <td>NaN</td>\n",
              "    </tr>\n",
              "    <tr>\n",
              "      <th>4</th>\n",
              "      <td>25</td>\n",
              "      <td>5</td>\n",
              "      <td>0</td>\n",
              "      <td>NaN</td>\n",
              "    </tr>\n",
              "  </tbody>\n",
              "</table>\n",
              "</div>"
            ],
            "text/plain": [
              "   X1  X2  Y    \n",
              "0   1  71  1 NaN\n",
              "1  75  48  0 NaN\n",
              "2  12  62  1 NaN\n",
              "3  32  62  1 NaN\n",
              "4  25   5  0 NaN"
            ]
          },
          "metadata": {},
          "execution_count": 9
        }
      ]
    },
    {
      "cell_type": "code",
      "metadata": {
        "colab": {
          "base_uri": "https://localhost:8080/",
          "height": 265
        },
        "id": "8S2C6Qz9BJ9P",
        "outputId": "32b2b01e-292f-41fb-8ca6-58b16c989f30"
      },
      "source": [
        "import matplotlib.pyplot as plt\n",
        "X1 = data['X1'].values.tolist()\n",
        "X2 = data['X2'].values.tolist()\n",
        "Y = data['Y'].values.tolist()\n",
        "\n",
        "for i in range(len(Y)): \n",
        "  if Y[i] == 0: \n",
        "    plt.plot(X1[i], X2[i], 'r+')\n",
        "  else: \n",
        "    plt.plot(X1[i], X2[i], 'g+')"
      ],
      "execution_count": 10,
      "outputs": [
        {
          "output_type": "display_data",
          "data": {
            "image/png": "[encoded data removed]",
            "text/plain": [
              "<Figure size 432x288 with 1 Axes>"
            ]
          },
          "metadata": {
            "needs_background": "light"
          }
        }
      ]
    },
    {
      "cell_type": "code",
      "metadata": {
        "id": "HJStGLILCn0Q"
      },
      "source": [
        "import random\n",
        "import math\n",
        "from IPython import display"
      ],
      "execution_count": 11,
      "outputs": []
    },
    {
      "cell_type": "code",
      "metadata": {
        "colab": {
          "base_uri": "https://localhost:8080/",
          "height": 281
        },
        "id": "RDRAKwC1CrOR",
        "outputId": "6a40a332-54a0-42a5-ca3a-b2b42a901483"
      },
      "source": [
        "W = [random.random(), random.random()]\n",
        "B = random.random()\n",
        "lr = 0.001\n",
        "theta = 0.5\n",
        "epoch = 0\n",
        "count = 0\n",
        "\n",
        "while count < len(Y): \n",
        "  total_error = 0\n",
        "  for i in range(len(Y)): \n",
        "    weighted_sum = W[0]*X1[i] + W[1]*X2[i] + B\n",
        "    prediction = 0\n",
        "    if weighted_sum > theta:  #activation function\n",
        "      prediction = 1\n",
        "    error = Y[i] - prediction\n",
        "    if error != 0:  \n",
        "      count = 0\n",
        "      total_error += math.sqrt(error**2)\n",
        "      W[0] += error*X1[i]*lr\n",
        "      W[1] += error*X2[i]*lr\n",
        "      B += error * lr\n",
        "    else: \n",
        "      count += 1\n",
        "\n",
        "\n",
        "  plt.figure()\n",
        "  \n",
        "  display.clear_output(wait=True)\n",
        "\n",
        "  for i in range(len(Y)): \n",
        "    if Y[i] == 0: \n",
        "      plt.plot(X1[i], X2[i], 'r+')\n",
        "      \n",
        "    else: \n",
        "      plt.plot(X1[i], X2[i], 'g+')\n",
        "     \n",
        "\n",
        "    plt.xlim([-20, 120])\n",
        "    plt.ylim([-20, 120])\n",
        "   \n",
        "\n",
        "    xintercept = (theta - B) / W[0]\n",
        "    yintercept = (theta - B) / W[1]\n",
        "    slope = -yintercept / xintercept\n",
        "    x = plt.xlim()\n",
        "    y = []\n",
        "\n",
        "    \n",
        "    for i in x: \n",
        "      y.append(slope*i + yintercept) #y = mx + c\n",
        "    \n",
        "    plt.plot(x,y, 'b-')\n",
        "    \n",
        "    plt.title(f\"Epoch = {epoch} Loss = {total_error}\")\n",
        "\n",
        "\n",
        "  plt.rcParams['axes.facecolor'] = 'orange'\n",
        "  plt.show()\n",
        "\n",
        "\n",
        "  epoch += 1\n"
      ],
      "execution_count": 37,
      "outputs": [
        {
          "output_type": "display_data",
          "data": {
            "image/png": "[encoded data removed]",
            "text/plain": [
              "<Figure size 432x288 with 1 Axes>"
            ]
          },
          "metadata": {
            "needs_background": "light"
          }
        }
      ]
    }
  ]
}